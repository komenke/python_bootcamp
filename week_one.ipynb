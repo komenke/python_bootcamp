{
  "nbformat": 4,
  "nbformat_minor": 0,
  "metadata": {
    "colab": {
      "name": "week_one.ipynb",
      "provenance": [],
      "collapsed_sections": [
        "LZq2XNXuajKC"
      ],
      "authorship_tag": "ABX9TyOoiAVW/ibCWik3eEpSkl8u",
      "include_colab_link": true
    },
    "kernelspec": {
      "name": "python3",
      "display_name": "Python 3"
    },
    "language_info": {
      "name": "python"
    }
  },
  "cells": [
    {
      "cell_type": "markdown",
      "metadata": {
        "id": "view-in-github",
        "colab_type": "text"
      },
      "source": [
        "<a href=\"https://colab.research.google.com/github/komenke/python_bootcamp/blob/main/week_one.ipynb\" target=\"_parent\"><img src=\"https://colab.research.google.com/assets/colab-badge.svg\" alt=\"Open In Colab\"/></a>"
      ]
    },
    {
      "cell_type": "code",
      "execution_count": null,
      "metadata": {
        "colab": {
          "base_uri": "https://localhost:8080/"
        },
        "id": "M_PBENTUT-9C",
        "outputId": "b582c0c6-ed70-47ec-cfe6-c37fc729a0a4"
      },
      "outputs": [
        {
          "output_type": "stream",
          "name": "stdout",
          "text": [
            "{\"id\":\"41447961-ce98-4a69-98fa-1646f79fce2a\",\"text\":\"Shakespeare spelled his OWN name several different ways.\",\"source\":\"djtech.net\",\"source_url\":\"http:\\/\\/www.djtech.net\\/humor\\/useless_facts.htm\",\"language\":\"en\",\"permalink\":\"https:\\/\\/uselessfacts.jsph.pl\\/41447961-ce98-4a69-98fa-1646f79fce2a\"}\n"
          ]
        }
      ],
      "source": [
        "import requests\n",
        "\n",
        "response = requests.get('https://uselessfacts.jsph.pl/random.json?language=en')\n",
        "\n",
        "print (response.text)"
      ]
    },
    {
      "cell_type": "code",
      "source": [
        "query_params ={\n",
        "    'language':'en'\n",
        "}\n",
        "\n",
        "response = requests.get('https://uselessfacts.jsph.pl/random.json', params=query_params)\n",
        "\n",
        "print (response.json().get('text'))"
      ],
      "metadata": {
        "colab": {
          "base_uri": "https://localhost:8080/"
        },
        "id": "ClZCTJf_bHXm",
        "outputId": "2da8c2e4-83c6-4ef2-d85e-8eafbd3a2380"
      },
      "execution_count": null,
      "outputs": [
        {
          "output_type": "stream",
          "name": "stdout",
          "text": [
            "A piece of paper can be folded no more then 9 times.\n"
          ]
        }
      ]
    },
    {
      "cell_type": "code",
      "source": [
        ""
      ],
      "metadata": {
        "id": "8jbH7-EdeTEa"
      },
      "execution_count": null,
      "outputs": []
    },
    {
      "cell_type": "markdown",
      "source": [
        "# Data Structures\n",
        "The **important** ones are list, dictionaries and sets"
      ],
      "metadata": {
        "id": "oRE0xnNte5TR"
      }
    },
    {
      "cell_type": "code",
      "source": [
        "data = ['Caleb','You']\n",
        "\n",
        "data.append('Jimmy')\n",
        "data.append(['hello'])\n",
        "data.append(1)\n",
        "\n",
        "print(data)"
      ],
      "metadata": {
        "colab": {
          "base_uri": "https://localhost:8080/"
        },
        "id": "a1qbTGddgG5B",
        "outputId": "4dd15e8b-5a06-4fff-c2c2-e868a444178e"
      },
      "execution_count": null,
      "outputs": [
        {
          "output_type": "stream",
          "name": "stdout",
          "text": [
            "['Caleb', 'You', 'Jimmy', ['hello'], 1]\n"
          ]
        }
      ]
    },
    {
      "cell_type": "markdown",
      "source": [
        "##List Slicing:   \n",
        "First Number is the inclusive starting point (0 = first)   \n",
        "Second Number is the exclusive ending point   \n",
        "Third Number is the step, or interval that data is pulled   "
      ],
      "metadata": {
        "id": "LZq2XNXuajKC"
      }
    },
    {
      "cell_type": "code",
      "source": [
        ""
      ],
      "metadata": {
        "id": "Z_Fzy8ulahZU"
      },
      "execution_count": null,
      "outputs": []
    },
    {
      "cell_type": "code",
      "source": [
        "data = ['Caleb', 'Monica', 'Jimmy', 'Samantha']\n",
        "\n",
        "data[1:3]\n",
        "\n",
        "data[1:1]\n",
        "\n",
        "data[:]\n",
        "\n",
        "data[1:4:2]"
      ],
      "metadata": {
        "colab": {
          "base_uri": "https://localhost:8080/"
        },
        "id": "16VvZvXoZRqv",
        "outputId": "6155a23b-a6eb-4c0c-f23a-6b8fc5c9c052"
      },
      "execution_count": null,
      "outputs": [
        {
          "output_type": "execute_result",
          "data": {
            "text/plain": [
              "['Monica', 'Samantha']"
            ]
          },
          "metadata": {},
          "execution_count": 12
        }
      ]
    },
    {
      "cell_type": "code",
      "source": [
        ""
      ],
      "metadata": {
        "id": "E3I_S4TBbgbD"
      },
      "execution_count": null,
      "outputs": []
    },
    {
      "cell_type": "markdown",
      "source": [
        "#Dictionaries and Sets\n",
        "Sets won't have any repeating data, duplicates won't affect it. Anytime there is a value that already exists, it won't change the data structure.  \n",
        "Dictionaires are similar to sets, if you happen to have a duplicate, it will replace it's number value with the duplicates value"
      ],
      "metadata": {
        "id": "HQj4JNj_bhxs"
      }
    },
    {
      "cell_type": "code",
      "source": [
        "data = {'Caleb', 'Jimmy', 'Samantha', 'Monica', 'Caleb'}\n",
        "\n",
        "data_dictionary = {\n",
        "    'Caleb': 5,\n",
        "    'Jimmy': 10,\n",
        "    'Samantha':12,\n",
        "    'Monica': 20,\n",
        "    'Caleb': 4\n",
        "}\n",
        "\n",
        "print(data)\n",
        "\n",
        "print(data_dictionary)\n",
        "\n",
        "print(data_dictionary.get('Caleb'))"
      ],
      "metadata": {
        "colab": {
          "base_uri": "https://localhost:8080/"
        },
        "id": "8KwC5A4XbuI5",
        "outputId": "b844806a-b99f-4d2e-cc75-ab0d689defb7"
      },
      "execution_count": null,
      "outputs": [
        {
          "output_type": "stream",
          "name": "stdout",
          "text": [
            "{'Jimmy', 'Caleb', 'Monica', 'Samantha'}\n",
            "{'Caleb': 4, 'Jimmy': 10, 'Samantha': 12, 'Monica': 20}\n",
            "4\n"
          ]
        }
      ]
    },
    {
      "cell_type": "code",
      "source": [
        ""
      ],
      "metadata": {
        "id": "Pxi-68cWeuBX"
      },
      "execution_count": null,
      "outputs": []
    },
    {
      "cell_type": "markdown",
      "source": [
        "# Control Flow i.e. Loops and Conditionals\n",
        "i is a variable that you pass in, loops starting at 0 up to exclusive 10.  \n",
        "An \"Iteration\" is one time throught the loop.  "
      ],
      "metadata": {
        "id": "I3WsnFCdevDb"
      }
    },
    {
      "cell_type": "code",
      "source": [
        "for i in range(10):\n",
        "  print(i)\n",
        "  # \"i\" is increased here"
      ],
      "metadata": {
        "id": "lB9_PFhcadTe"
      },
      "execution_count": null,
      "outputs": []
    },
    {
      "cell_type": "code",
      "source": [
        "data =['a','b','c','d','e']\n",
        "x = len(data)\n",
        "for i in range(x):\n",
        "  print(data[i])"
      ],
      "metadata": {
        "id": "6y5cY5p7cEFS"
      },
      "execution_count": null,
      "outputs": []
    },
    {
      "cell_type": "code",
      "source": [
        "data = ['a', 'b', 'c', 'd', 'e']\n",
        "\n",
        "print(len(data))\n",
        "print(\" \")# for a new line\n",
        "\n",
        "for i in range(len(data)):\n",
        "  print(data[i], end=\"  \")\n",
        "  #increased here\n",
        "\n",
        "print(\" \")\n",
        "for letter in data:\n",
        "      print(letter, end =\"  \")\n",
        "  # letter is a variable like i above, and this will print\n",
        "  # each element of the list\n",
        "\n",
        "  # for \"varaible\" in \"an iterable\":\n",
        "  # an iterable is a range, list, set\n",
        "  # range is typically used to modify a list or print through numbers"
      ],
      "metadata": {
        "colab": {
          "base_uri": "https://localhost:8080/"
        },
        "id": "hBcpmDK-e7_j",
        "outputId": "d71fa230-ad1a-4d03-e5b9-357f98180230"
      },
      "execution_count": null,
      "outputs": [
        {
          "output_type": "stream",
          "name": "stdout",
          "text": [
            "5\n",
            " \n",
            "a  b  c  d  e   \n",
            "a  b  c  d  e  "
          ]
        }
      ]
    },
    {
      "cell_type": "code",
      "source": [
        "  data = ['a', 'b', 'c', 'd', 'e']\n",
        "  \n",
        "  for i, letter in enumerate(data):\n",
        "      print(i, letter)\n",
        "\n",
        "  #the function enumerate will print the index and value"
      ],
      "metadata": {
        "colab": {
          "base_uri": "https://localhost:8080/"
        },
        "id": "hZOJ4tKfj-4M",
        "outputId": "a82a0edb-a590-491e-a4f0-c400c52ab985"
      },
      "execution_count": null,
      "outputs": [
        {
          "output_type": "stream",
          "name": "stdout",
          "text": [
            "0 a\n",
            "1 b\n",
            "2 c\n",
            "3 d\n",
            "4 e\n"
          ]
        }
      ]
    },
    {
      "cell_type": "code",
      "source": [
        "data = [a']"
      ],
      "metadata": {
        "id": "_HsyRJ0ildTw"
      },
      "execution_count": null,
      "outputs": []
    },
    {
      "cell_type": "code",
      "source": [
        "data = ['a', 'b', 'c', 'd', 'e']\n",
        "  \n",
        "i = 0 # single = assigns a value\n",
        "\n",
        "while i < len(data):\n",
        "    print(data[i], end =\" \")\n",
        "    i += 1"
      ],
      "metadata": {
        "colab": {
          "base_uri": "https://localhost:8080/"
        },
        "id": "4CUtiLhdggPP",
        "outputId": "3005736a-2c91-4ab5-ee84-7489e3cbd6e7"
      },
      "execution_count": 7,
      "outputs": [
        {
          "output_type": "stream",
          "name": "stdout",
          "text": [
            "a b c d e "
          ]
        }
      ]
    },
    {
      "cell_type": "code",
      "source": [
        "while True: # this loop runs until user provides \"stop\"\n",
        "    x = input() \n",
        "    if x == \"stop\": # double equals compares two values\n",
        "      break\n",
        "    elif x == \"special\":\n",
        "        continue # this causes it to skip the print and go back to if\n",
        "    else:\n",
        "      print(\"it wasn't stop or special\")\n",
        "      \n",
        "    print(\"printing data...\")\n"
      ],
      "metadata": {
        "id": "_5Z_dbXqlnrE"
      },
      "execution_count": null,
      "outputs": []
    },
    {
      "cell_type": "code",
      "source": [
        "data_dictionary = {\n",
        "    'Caleb': 5,\n",
        "    'Jimmy': 10,\n",
        "    'Samantha':12,\n",
        "    'Monica': 20,\n",
        "    'Caleb': 4\n",
        "}\n",
        "\n",
        "for key, value in data_dictionary.items(): \n",
        "  print(key, value) #iterates through dictionary\n",
        "\n",
        "for key, value in data_dictionary.items():\n",
        "  if value == 12: #looking for a specific value in dictionary\n",
        "    print('we found 12')\n",
        "    break\n",
        "  print(key, value)"
      ],
      "metadata": {
        "id": "Esw4nhbBorvF"
      },
      "execution_count": null,
      "outputs": []
    },
    {
      "cell_type": "markdown",
      "source": [
        "# Guessing Game\n",
        "Generate a random number - random module  \n",
        "do while - Python doesn't have this built it  \n",
        "do something once - possibly repeat it  \n",
        "Ask us for a number. If we do it again, ask again.  \n",
        "Logic for right/ wrong: guessed == correct value.\n",
        "    "
      ],
      "metadata": {
        "id": "VkaXQju8jiz3"
      }
    },
    {
      "cell_type": "code",
      "source": [
        "import random\n",
        "\n",
        "print(random.randint(0,10))"
      ],
      "metadata": {
        "id": "VfmbXj5vlLj6"
      },
      "execution_count": null,
      "outputs": []
    },
    {
      "cell_type": "code",
      "source": [
        "from random import randint\n",
        "\n",
        "correct = randint(0, 100)\n",
        "print(correct)\n",
        "\n",
        "while True:\n",
        "  guess = int(input()) #anything read in from input is read in as a string, there you have to change this to an int\n",
        "  print(type(guess), type(correct))\n",
        "  if guess == correct:\n",
        "    print(\"You win\")\n",
        "    break\n",
        "  #do something\n",
        "  #check to see if we should do it again"
      ],
      "metadata": {
        "id": "QwZpvSTDlpM6"
      },
      "execution_count": null,
      "outputs": []
    },
    {
      "cell_type": "code",
      "source": [
        "from random import randint \n",
        "low = 0\n",
        "high = input(\"How High do you want to guess? \")\n",
        "print(type(high))\n",
        "correct = randint(0, int(high))\n",
        "#print(correct)\n",
        "print(f'Guess a number between {low} and  {high}')\n",
        "\n",
        "while True:\n",
        "  guess = int(input()) #anything read in from input is read in as a string, there you have to change this to an int\n",
        "  #print(correct)\n",
        "  if guess < correct:\n",
        "    print(\"Guess higher\")\n",
        "  elif guess > correct:\n",
        "    print (\"Guess lower\")\n",
        "  else:\n",
        "    print (\"You win\")\n",
        "    break\n",
        "  "
      ],
      "metadata": {
        "id": "FEoUocEDrGr2"
      },
      "execution_count": null,
      "outputs": []
    },
    {
      "cell_type": "code",
      "source": [
        "print(\"done!\")"
      ],
      "metadata": {
        "colab": {
          "base_uri": "https://localhost:8080/"
        },
        "id": "BErl4Wm97E2Q",
        "outputId": "4d7778d3-7152-4754-e407-e5b31ca961f2"
      },
      "execution_count": 14,
      "outputs": [
        {
          "output_type": "stream",
          "name": "stdout",
          "text": [
            "done!\n"
          ]
        }
      ]
    }
  ]
}