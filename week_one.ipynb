{
  "nbformat": 4,
  "nbformat_minor": 0,
  "metadata": {
    "colab": {
      "provenance": [],
      "authorship_tag": "ABX9TyP4JEYBEQfHBPUE/or6Zdnq",
      "include_colab_link": true
    },
    "kernelspec": {
      "name": "python3",
      "display_name": "Python 3"
    },
    "language_info": {
      "name": "python"
    }
  },
  "cells": [
    {
      "cell_type": "markdown",
      "metadata": {
        "id": "view-in-github",
        "colab_type": "text"
      },
      "source": [
        "<a href=\"https://colab.research.google.com/github/komenke/python_bootcamp/blob/main/week_one.ipynb\" target=\"_parent\"><img src=\"https://colab.research.google.com/assets/colab-badge.svg\" alt=\"Open In Colab\"/></a>"
      ]
    },
    {
      "cell_type": "markdown",
      "source": [],
      "metadata": {
        "id": "tbwr6k7mQAbF"
      }
    },
    {
      "cell_type": "code",
      "source": [
        "import requests\n",
        "\n",
        "response = requests.get('https://uselessfacts.jsph.pl/random.json?language=en')\n",
        "\n",
        "print(response.text)"
      ],
      "metadata": {
        "colab": {
          "base_uri": "https://localhost:8080/"
        },
        "id": "PTJxU7kZcj3E",
        "outputId": "266117be-08fe-4592-e0cd-91ea2c1d1c85"
      },
      "execution_count": null,
      "outputs": [
        {
          "output_type": "stream",
          "name": "stdout",
          "text": [
            "{\"id\":\"bf048bb49154273800d7600c1ea75b19\",\"text\":\"Seattle’s Fremont Bridge rises up and down more than any drawbridge in the world.\",\"source\":\"djtech.net\",\"source_url\":\"http://www.djtech.net/humor/useless_facts.htm\",\"language\":\"en\",\"permalink\":\"https://uselessfacts.jsph.pl/api/v2/facts/bf048bb49154273800d7600c1ea75b19\"}\n",
            "\n"
          ]
        }
      ]
    },
    {
      "cell_type": "code",
      "source": [
        "query_params={\n",
        "    'language':'en'\n",
        "\n",
        "}\n",
        "\n",
        "response = requests.get('https://uselessfacts.jsph.pl/random.json',params=query_params)\n",
        "\n",
        "print(response.json().get('text'))"
      ],
      "metadata": {
        "colab": {
          "base_uri": "https://localhost:8080/"
        },
        "id": "1y0J3Lj1mYN5",
        "outputId": "6e7ac524-ed8c-4500-ba1c-a3fc8ce4ddab"
      },
      "execution_count": null,
      "outputs": [
        {
          "output_type": "stream",
          "name": "stdout",
          "text": [
            "Studies have shown that children laugh an average of 300 times/day and adults 17 times/day, making the average child more optimistic, curious, and creative than the adult.\n"
          ]
        }
      ]
    },
    {
      "cell_type": "markdown",
      "source": [
        "# Video 1.4"
      ],
      "metadata": {
        "id": "voJ5XjHvLEry"
      }
    },
    {
      "cell_type": "code",
      "source": [],
      "metadata": {
        "id": "1_HxjuUtLC7l"
      },
      "execution_count": null,
      "outputs": []
    },
    {
      "cell_type": "markdown",
      "source": [
        "# Video 1.5 - Control Flow AKA Loops and Conditonals\n",
        "\n",
        "In the example below (10) is exclusive, so it prints 10 numbers 0 - 9\n",
        "\n",
        "Each time through the loop is one iteration\n",
        "\n",
        "The range() is an in-built function in Python. It returns a sequence of numbers starting from zero and increment by 1 by default and stops before the given number. Now that we know the definition of range, let's see the syntax: range(start, stop, step)"
      ],
      "metadata": {
        "id": "KI9wjuIfKjQh"
      }
    },
    {
      "cell_type": "code",
      "source": [
        "for i in range (0,10,2):\n",
        "  #range is typically used if you want to iterate through some numbers or modify the list as you iterate through it\n",
        "  print(i)\n",
        "  #loop value increased here"
      ],
      "metadata": {
        "colab": {
          "base_uri": "https://localhost:8080/"
        },
        "id": "nGrkwN_dKVen",
        "outputId": "2a28fb31-e0cd-45b5-ba23-f7ed454f6747"
      },
      "execution_count": null,
      "outputs": [
        {
          "output_type": "stream",
          "name": "stdout",
          "text": [
            "0\n",
            "2\n",
            "4\n",
            "6\n",
            "8\n"
          ]
        }
      ]
    },
    {
      "cell_type": "code",
      "source": [
        "data = ['a','b','c','d','e']\n",
        "\n",
        "for i in range (5):\n",
        "  print(data[i])\n",
        "  #loop value increased here"
      ],
      "metadata": {
        "colab": {
          "base_uri": "https://localhost:8080/"
        },
        "id": "DxlEaGEQNG0g",
        "outputId": "2fc5c042-a8e0-4471-b36e-0766ad057f03"
      },
      "execution_count": null,
      "outputs": [
        {
          "output_type": "stream",
          "name": "stdout",
          "text": [
            "a\n",
            "b\n",
            "c\n",
            "d\n",
            "e\n"
          ]
        }
      ]
    },
    {
      "cell_type": "code",
      "source": [
        "data = ['a','b','c','d','e']\n",
        "# this example works with integers and passes it into the data list\n",
        "# this also has an embeded function (len(data))\n",
        "\n",
        "for i in range (len(data)):\n",
        "  print(data[i])\n",
        "  #loop value increased here"
      ],
      "metadata": {
        "colab": {
          "base_uri": "https://localhost:8080/"
        },
        "id": "KIkqJVzrODPG",
        "outputId": "197ccaad-da17-4b99-e991-5a282343ba86"
      },
      "execution_count": null,
      "outputs": [
        {
          "output_type": "stream",
          "name": "stdout",
          "text": [
            "a\n",
            "b\n",
            "c\n",
            "d\n",
            "e\n"
          ]
        }
      ]
    },
    {
      "cell_type": "code",
      "source": [
        "data = ['a','b','c','d','e']\n",
        "# letter is varaible just like i, this works with each element within the list indivdually vs the index above\n",
        "#anything that is considered an iterable can be placed after \"in\" that is, anything that can be iterated through\n",
        "# or looped through i.e. list, range, set,\n",
        "\n",
        "for letter in data:\n",
        "  print(letter, end=\" \")\n"
      ],
      "metadata": {
        "colab": {
          "base_uri": "https://localhost:8080/"
        },
        "id": "5TBju1q1P--Q",
        "outputId": "5ae813e5-a48f-4200-d59d-6641ea1638ce"
      },
      "execution_count": null,
      "outputs": [
        {
          "output_type": "stream",
          "name": "stdout",
          "text": [
            "a b c d e "
          ]
        }
      ]
    },
    {
      "cell_type": "code",
      "source": [
        "data = ['a','b','c','d','e']\n",
        "# get index by passing data into the enumerate function\n",
        "\n",
        "for i, letter in enumerate(data):\n",
        "  print(i, letter)\n"
      ],
      "metadata": {
        "colab": {
          "base_uri": "https://localhost:8080/"
        },
        "id": "j3HQ-xL4Rs8R",
        "outputId": "aea3f8c8-efe7-4918-f33d-072dde6196fc"
      },
      "execution_count": null,
      "outputs": [
        {
          "output_type": "stream",
          "name": "stdout",
          "text": [
            "0 a\n",
            "1 b\n",
            "2 c\n",
            "3 d\n",
            "4 e\n"
          ]
        }
      ]
    },
    {
      "cell_type": "code",
      "source": [
        "data = ['a','b','c','d','e']\n",
        "\n",
        "i = 0 #while loop (1 of 3) initialization of the iteration variable\n",
        "\n",
        "while i < len(data): #(2 of 3) a condition of when to stop\n",
        "  print(data[i], end=\" \") # what we do between each loop\n",
        "  i += 1 #(3 of 3) an update to increase of i by one (aka i++)"
      ],
      "metadata": {
        "colab": {
          "base_uri": "https://localhost:8080/"
        },
        "id": "2R2-ik8bUcJq",
        "outputId": "e38291e5-ed53-4e58-a9e3-7d9b69d49a82"
      },
      "execution_count": null,
      "outputs": [
        {
          "output_type": "stream",
          "name": "stdout",
          "text": [
            "a b c d e "
          ]
        }
      ]
    },
    {
      "cell_type": "code",
      "source": [
        "\n",
        "# example of \"break\" and \"continue\"\n",
        "\n",
        "while True:\n",
        "  x = input()\n",
        "  if x == \"stop\": # if statement only executes if this statement is evaluated as true\n",
        "    break         # double equals compares two values and a single equals assigns a value\n",
        "                  # this will break out of the loop once the if evaluates to true\n",
        "  elif x == \"special\":\n",
        "    continue\n",
        "  else:\n",
        "    print(\"it wasn't stop or special\") # we don't really need else, because these two can run if the other two cond aren't met\n",
        "  print(\"printing data...\") # this runs if the \"if\" and \"elif\" conditions aren't met"
      ],
      "metadata": {
        "colab": {
          "base_uri": "https://localhost:8080/"
        },
        "id": "D4j1RTeeWP2x",
        "outputId": "27c2b1aa-9334-4456-96eb-8013798bc0d8"
      },
      "execution_count": null,
      "outputs": [
        {
          "name": "stdout",
          "output_type": "stream",
          "text": [
            "hello\n",
            "it wasn't stop or special\n",
            "printing data...\n",
            "kory\n",
            "it wasn't stop or special\n",
            "printing data...\n",
            "special\n",
            "stop\n"
          ]
        }
      ]
    },
    {
      "cell_type": "code",
      "source": [
        "#iterating through a dictionary\n",
        "dictionary_data = {\n",
        "    'Caleb': 5,\n",
        "    'Kory': 10,\n",
        "    'jimmy': 6,\n",
        "    'Rachel': 2,\n",
        "    'Caleb': 1\n",
        "    }\n",
        "\n",
        "for key, value in dictionary_data.items():\n",
        "  print(key,value)"
      ],
      "metadata": {
        "colab": {
          "base_uri": "https://localhost:8080/"
        },
        "id": "lxw351lpY1bc",
        "outputId": "ad239001-c829-46f8-b5ce-360f7192267e"
      },
      "execution_count": null,
      "outputs": [
        {
          "output_type": "stream",
          "name": "stdout",
          "text": [
            "Caleb 1\n",
            "Kory 10\n",
            "jimmy 6\n",
            "Rachel 2\n"
          ]
        }
      ]
    },
    {
      "cell_type": "code",
      "source": [
        "#example of searching through a dictionary\n",
        "dictionary_data = {\n",
        "    'Caleb': 5,\n",
        "    'Kory': 10,\n",
        "    'jimmy': 6,\n",
        "    'Rachel': 2,\n",
        "    'Caleb': 1\n",
        "    }\n",
        "\n",
        "for key, value in dictionary_data.items():\n",
        "  if value == 6:\n",
        "    print('we found 6')\n",
        "    break\n",
        "  print(key,value)"
      ],
      "metadata": {
        "colab": {
          "base_uri": "https://localhost:8080/"
        },
        "id": "3iZR7GfUZkZ7",
        "outputId": "bc861707-90e2-4445-eca9-030ef2c39716"
      },
      "execution_count": null,
      "outputs": [
        {
          "output_type": "stream",
          "name": "stdout",
          "text": [
            "Caleb 1\n",
            "Kory 10\n",
            "we found 6\n"
          ]
        }
      ]
    },
    {
      "cell_type": "markdown",
      "source": [
        "## New Section Video 1.6 Custom Functions\n",
        "\n",
        "Guessing Game.  \n",
        "Generate a random number.  \n",
        "do while.   \n",
        "do something once.  \n",
        "Ask us for a number. If we get it wrong, ask again.  \n",
        "logic for right/ wrong guessed == correct value\n",
        "\n",
        "Guessing half every time is a log(n), splits in half the number of operations we have to do every time and its a binary search algorithm."
      ],
      "metadata": {
        "id": "6lxEfC0q8doZ"
      }
    },
    {
      "cell_type": "code",
      "source": [
        "import random\n",
        "print('Enter the larger number to guess between 0 and ?')\n",
        "low = 0\n",
        "high = int(input())\n",
        "print(f'Guess a number between {low} and {high}.')\n",
        "correct = random.randint(low, high)\n",
        "#print(correct)\n",
        "print('Enter a Guess')\n",
        "\n",
        "while True:\n",
        "  guess = int(input()) #input reads the value as a str so you have to convert to an int\n",
        "                       #we are constructing an int from our str input\n",
        "  if guess == correct:\n",
        "    print('You Guessed it')\n",
        "    #print(type(guess), type(correct))\n",
        "    break\n",
        "  elif guess > correct:\n",
        "    print('Guess lower')\n",
        "\n",
        "  else:\n",
        "    print('Guess higher')\n",
        "\n",
        "\n",
        "  #do something\n",
        "  #check to see if we should do it again"
      ],
      "metadata": {
        "colab": {
          "base_uri": "https://localhost:8080/"
        },
        "id": "jUFU3SQ88kpj",
        "outputId": "ab92fd89-3f9d-4763-d228-962aa926703d"
      },
      "execution_count": null,
      "outputs": [
        {
          "output_type": "stream",
          "name": "stdout",
          "text": [
            "Enter the larger number to guess between 0 and ?\n",
            "1000\n",
            "Guess a number between 0 and 1000.\n",
            "Enter a Guess\n",
            "500\n",
            "Guess higher\n",
            "750\n",
            "Guess higher\n",
            "825\n",
            "Guess higher\n",
            "955\n",
            "Guess lower\n",
            "850\n",
            "Guess higher\n",
            "900\n",
            "Guess higher\n",
            "925\n",
            "Guess lower\n",
            "912\n",
            "Guess lower\n",
            "906\n",
            "You Guessed it\n"
          ]
        }
      ]
    },
    {
      "cell_type": "code",
      "source": [
        "from random import randint #alternative way to import a specific function in a library\n",
        "\n",
        "print(randint(0,100))"
      ],
      "metadata": {
        "colab": {
          "base_uri": "https://localhost:8080/"
        },
        "id": "7IdxY_p7A9Iy",
        "outputId": "3f5e18f8-4870-49c2-cac6-ca772559d49e"
      },
      "execution_count": null,
      "outputs": [
        {
          "output_type": "stream",
          "name": "stdout",
          "text": [
            "9\n"
          ]
        }
      ]
    },
    {
      "cell_type": "markdown",
      "source": [
        "# Video 1.7 Jupyter and GitHub"
      ],
      "metadata": {
        "id": "oP7GvIeVToi1"
      }
    },
    {
      "cell_type": "code",
      "source": [],
      "metadata": {
        "id": "qfegT7C_Tyt5"
      },
      "execution_count": null,
      "outputs": []
    }
  ]
}